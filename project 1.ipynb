{
 "cells": [
  {
   "cell_type": "code",
   "execution_count": null,
   "id": "14488cb1",
   "metadata": {},
   "outputs": [
    {
     "name": "stdout",
     "output_type": "stream",
     "text": [
      "********************\n",
      "\n",
      "main menu\n",
      "1. add a new word\n",
      "2. find the meaning\n",
      "3. update a word\n",
      "4. exit\n",
      "\n",
      "********************\n",
      "enter choice:3\n",
      "enter a word: what\n",
      "enter the new meaning: badm\n",
      "{'who': 'quest', 'what': 'soccer', 'tennis': 'sport'}\n",
      "{'who': 'quest', 'what': 'badm', 'tennis': 'sport'}\n",
      "********************\n",
      "\n",
      "main menu\n",
      "1. add a new word\n",
      "2. find the meaning\n",
      "3. update a word\n",
      "4. exit\n",
      "\n",
      "********************\n"
     ]
    }
   ],
   "source": [
    "d=dict()\n",
    "while(1):\n",
    "    \n",
    "    import json\n",
    "    print('*'*20)\n",
    "    print()\n",
    "    print('main menu')\n",
    "    print(\"1. add a new word\")\n",
    "    print(\"2. find the meaning\")\n",
    "    print(\"3. update a word\")\n",
    "    print(\"4. exit\")\n",
    "    print()\n",
    "    print('*'*20)\n",
    "    a=int(input(\"enter choice:\"))\n",
    "\n",
    "    \n",
    "    if (a==1):\n",
    "        \n",
    "        word=input('enter a word: ')\n",
    "        mean=input('enter its meaning: ')\n",
    "        d[word]=mean\n",
    "\n",
    "        f1=open('words.txt','w')\n",
    "        json.dump(d,f1)        \n",
    "        f1.close()      \n",
    "        continue\n",
    "\n",
    "        \n",
    "    if a==2:\n",
    "        word=input('enter a word: ')\n",
    "        f1=open('words.txt','r')\n",
    "        d=json.load(f1)\n",
    "        for i in d:\n",
    "            if i==word:\n",
    "                print(d[i])\n",
    "            else:\n",
    "                print('word not found in dictionary ')\n",
    "        f1.close()\n",
    "        continue\n",
    "        \n",
    "        \n",
    "    if a==3:\n",
    "\n",
    "       \n",
    "        word=input('enter a word: ')\n",
    "        mean=input('enter the new meaning: ')\n",
    "        f1=open('words.txt','r')   \n",
    "        d=json.load(f1)\n",
    "        f1.close()\n",
    "        print(d)\n",
    "        for i in d:\n",
    "            if i==word:\n",
    "                d[i]=mean\n",
    "                break\n",
    "        else:\n",
    "            print('word not found in dictionary ')\n",
    "        \n",
    "        print(d)\n",
    "        f1=open('words.txt','w')   \n",
    "        json.dump(d,f1)\n",
    "        f1.close()\n",
    "        \n",
    "        continue\n",
    "        \n",
    "    if a==4:\n",
    "        print(\"the program has exited\")\n",
    "        break"
   ]
  },
  {
   "cell_type": "markdown",
   "id": "083f56ac",
   "metadata": {},
   "source": [
    "#### "
   ]
  },
  {
   "cell_type": "code",
   "execution_count": null,
   "id": "a33eda36",
   "metadata": {},
   "outputs": [],
   "source": []
  }
 ],
 "metadata": {
  "kernelspec": {
   "display_name": "Python 3",
   "language": "python",
   "name": "python3"
  },
  "language_info": {
   "codemirror_mode": {
    "name": "ipython",
    "version": 3
   },
   "file_extension": ".py",
   "mimetype": "text/x-python",
   "name": "python",
   "nbconvert_exporter": "python",
   "pygments_lexer": "ipython3",
   "version": "3.8.8"
  }
 },
 "nbformat": 4,
 "nbformat_minor": 5
}
